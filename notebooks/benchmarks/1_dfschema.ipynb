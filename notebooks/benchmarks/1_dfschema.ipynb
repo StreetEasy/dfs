{
 "cells": [
  {
   "cell_type": "code",
   "execution_count": 2,
   "id": "8d3c649b-abac-4bea-966b-06bcf2548bcc",
   "metadata": {},
   "outputs": [
    {
     "name": "stdout",
     "output_type": "stream",
     "text": [
      "Last updated: 2022-10-29T20:51:40.433172-04:00\n",
      "\n",
      "Python implementation: CPython\n",
      "Python version       : 3.8.8\n",
      "IPython version      : 7.34.0\n",
      "\n",
      "Compiler    : Clang 10.0.0 \n",
      "OS          : Darwin\n",
      "Release     : 21.6.0\n",
      "Machine     : x86_64\n",
      "Processor   : i386\n",
      "CPU cores   : 12\n",
      "Architecture: 64bit\n",
      "\n"
     ]
    }
   ],
   "source": [
    "import pandas as pd\n",
    "from dfschema import DfSchema\n",
    "\n",
    "from watermark import watermark\n",
    "print(watermark())"
   ]
  },
  {
   "cell_type": "markdown",
   "id": "c953a1b2-f69a-4f45-acd1-fab6014223e7",
   "metadata": {},
   "source": [
    "We are goign to use classical \"Boston Housing\" dataset for our benchmarks\n",
    "\n",
    "[data dict](https://www.cs.toronto.edu/~delve/data/boston/bostonDetail.html)"
   ]
  },
  {
   "cell_type": "code",
   "execution_count": 7,
   "id": "d8bdd103-9736-4eed-a42c-f09d2381ee4e",
   "metadata": {},
   "outputs": [],
   "source": [
    "data_path = 'https://github.com/selva86/datasets/blob/master/BostonHousing.csv?raw=True'\n",
    "data = pd.read_csv(data_path)"
   ]
  },
  {
   "cell_type": "code",
   "execution_count": 8,
   "id": "febfe0ce-1ac8-431c-b01c-257e6fc5e9a8",
   "metadata": {},
   "outputs": [
    {
     "data": {
      "text/plain": [
       "(506, 14)"
      ]
     },
     "execution_count": 8,
     "metadata": {},
     "output_type": "execute_result"
    }
   ],
   "source": [
    "data.shape"
   ]
  },
  {
   "cell_type": "code",
   "execution_count": 10,
   "id": "1c6ec45f-0ef1-4f17-a189-527a76d67cf5",
   "metadata": {},
   "outputs": [
    {
     "data": {
      "text/plain": [
       "crim       float64\n",
       "zn         float64\n",
       "indus      float64\n",
       "chas         int64\n",
       "nox        float64\n",
       "rm         float64\n",
       "age        float64\n",
       "dis        float64\n",
       "rad          int64\n",
       "tax          int64\n",
       "ptratio    float64\n",
       "b          float64\n",
       "lstat      float64\n",
       "medv       float64\n",
       "dtype: object"
      ]
     },
     "execution_count": 10,
     "metadata": {},
     "output_type": "execute_result"
    }
   ],
   "source": [
    "data.dtypes"
   ]
  },
  {
   "cell_type": "code",
   "execution_count": 15,
   "id": "1d295a3e-546c-4ce5-8acd-92fbe4d5c093",
   "metadata": {},
   "outputs": [],
   "source": [
    "sample = data.sample(frac=0.2)"
   ]
  },
  {
   "cell_type": "code",
   "execution_count": 17,
   "id": "58e4e0a0-3cb9-420d-a9e6-0cfcbb13c08f",
   "metadata": {},
   "outputs": [],
   "source": [
    "schema = DfSchema.from_df(data)"
   ]
  },
  {
   "cell_type": "code",
   "execution_count": 18,
   "id": "564f2c96-ba67-44a5-bc66-9a8113f30d8f",
   "metadata": {},
   "outputs": [],
   "source": [
    "schema.validate(sample)"
   ]
  },
  {
   "cell_type": "code",
   "execution_count": null,
   "id": "cecfb45f-8fd7-4ea1-b4b0-daf569739fd7",
   "metadata": {},
   "outputs": [],
   "source": []
  }
 ],
 "metadata": {
  "kernelspec": {
   "display_name": "dfschema-kernel",
   "language": "python",
   "name": "dfschema-kernel"
  },
  "language_info": {
   "codemirror_mode": {
    "name": "ipython",
    "version": 3
   },
   "file_extension": ".py",
   "mimetype": "text/x-python",
   "name": "python",
   "nbconvert_exporter": "python",
   "pygments_lexer": "ipython3",
   "version": "3.8.8"
  }
 },
 "nbformat": 4,
 "nbformat_minor": 5
}
