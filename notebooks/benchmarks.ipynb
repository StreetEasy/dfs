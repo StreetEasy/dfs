{
 "cells": [
  {
   "cell_type": "code",
   "execution_count": 1,
   "id": "e330eca9-92b5-4f5d-b65c-2f8c55560d20",
   "metadata": {},
   "outputs": [],
   "source": [
    "import pandas as pd\n",
    "import numpy as np\n",
    "import sys\n",
    "import timeit\n",
    "import altair as alt"
   ]
  },
  {
   "cell_type": "code",
   "execution_count": 2,
   "id": "9c459425-4180-4d5a-9886-e73b40906200",
   "metadata": {},
   "outputs": [],
   "source": [
    "sys.path.append('../')"
   ]
  },
  {
   "cell_type": "code",
   "execution_count": 3,
   "id": "af214085-b3e1-4894-a806-51518562f06d",
   "metadata": {},
   "outputs": [],
   "source": [
    "import dfs\n",
    "from SE.qa.dataframe import validate_df"
   ]
  },
  {
   "cell_type": "code",
   "execution_count": 4,
   "id": "6a71652f-9252-458a-81d0-b3f0f5f9848b",
   "metadata": {},
   "outputs": [],
   "source": [
    "def _sample(length)->pd.DataFrame:\n",
    "    d = {'x': np.random.random(length),\n",
    "         'y': np.random.randint(0, 1000, size=length),\n",
    "         'z': [chr(i) for i in np.random.randint(ord('a'), ord('z') + 1, length)]\n",
    "    }\n",
    "    return pd.DataFrame(d)"
   ]
  },
  {
   "cell_type": "code",
   "execution_count": 5,
   "id": "aa47abab-2cf5-407a-9348-49d9ea47e376",
   "metadata": {},
   "outputs": [],
   "source": [
    "schema_p1 = {\n",
    "    \"metadata\": {\"protocol_version\":1.0},\n",
    "    \"strict_cols\":True,\n",
    "    \"columns\": {\n",
    "        \"x\": {\"dtype\":\"float\", \"max_value\": 1.2},\n",
    "        \"y\": {\"dtype\": \"int\", \"max_value\":1200},\n",
    "        \"z\": {\"dtype\":'string', \"na_limit\": 0.1}\n",
    "    }\n",
    "}"
   ]
  },
  {
   "cell_type": "code",
   "execution_count": 6,
   "id": "5090b5f8-d844-4e03-8c4c-cb3735fb5ce9",
   "metadata": {},
   "outputs": [],
   "source": [
    "sample_ns = (10_000, 1_000_000, 5_000_000, 10_000_000, 25_000_000, 50_000_000)"
   ]
  },
  {
   "cell_type": "code",
   "execution_count": 7,
   "id": "891bbdf0-daba-4173-b3f3-08b9d3e8a21a",
   "metadata": {},
   "outputs": [],
   "source": [
    "setup = '''\n",
    "import pandas as pd\n",
    "import numpy as np\n",
    "\n",
    "import dataframe_schema as dfs\n",
    "from SE.qa.dataframe import validate_df\n",
    "\n",
    "schema_p1 = {\n",
    "    \"metadata\": {\"protocol_version\":1.0},\n",
    "    \"strict_cols\":True,\n",
    "    \"columns\": {\n",
    "        \"x\": {\"dtype\":\"float\", \"max_value\": 1.2},\n",
    "        \"y\": {\"dtype\": \"int\", \"max_value\":1200},\n",
    "        \"z\": {\"dtype\":'string', \"na_limit\": 0.1}\n",
    "    }\n",
    "}\n",
    "\n",
    "S = dfs.DfSchema.from_dict(schema_p1)\n",
    "schema_p2 = S.dict()\n",
    "\n",
    "def _sample(length)->pd.DataFrame:\n",
    "    d = {'x': np.random.random(length),\n",
    "         'y': np.random.randint(0, 1000, size=length),\n",
    "         'z': [chr(i) for i in np.random.randint(ord('a'), ord('z') + 1, length)]\n",
    "    }\n",
    "    return pd.DataFrame(d)\n",
    "\n",
    "sample = _sample'''"
   ]
  },
  {
   "cell_type": "code",
   "execution_count": 8,
   "id": "ccda5547-9bd1-4d6d-bfcf-fdda58e03876",
   "metadata": {},
   "outputs": [],
   "source": [
    "tests = {\n",
    "    'SE': 'validate_df(sample, schema_p1)',\n",
    "    'dfs_s_p1': 'dfs.validate_df(sample, schema_p1, summary=True)',\n",
    "    'dfs_f_p1': 'dfs.validate_df(sample, schema_p1, summary=False)',\n",
    "    'dfs_s_p2': 'dfs.validate_df(sample, schema_p2, summary=True)',\n",
    "    'dfs_f_p2': 'dfs.validate_df(sample, schema_p2, summary=False)',\n",
    "    'dfs_S_s': 'S.validate_df(sample, summary=True)',\n",
    "    'dfs_S_f': 'S.validate_df(sample, summary=False)'\n",
    "}"
   ]
  },
  {
   "cell_type": "code",
   "execution_count": 9,
   "id": "342e038f-dfcb-42e0-a43e-2f298c56b4ea",
   "metadata": {},
   "outputs": [
    {
     "name": "stdout",
     "output_type": "stream",
     "text": [
      "SE\n",
      "dfs_s_p1\n",
      "dfs_f_p1\n",
      "dfs_s_p2\n",
      "dfs_f_p2\n",
      "dfs_S_s\n",
      "dfs_S_f\n"
     ]
    }
   ],
   "source": [
    "results = {}\n",
    "for k, test in tests.items():\n",
    "    print(k)\n",
    "    results[k] = {}\n",
    "    \n",
    "    for s in samples_ns:\n",
    "        setup_ = setup + f'({s})'\n",
    "        mmnts = timeit.timeit(stmt=test, setup=setup_, number=4)\n",
    "        results[k][s] = mmnts\n"
   ]
  },
  {
   "cell_type": "code",
   "execution_count": 11,
   "id": "ce17b25e-e5f4-4722-8fbc-55af0be49df4",
   "metadata": {},
   "outputs": [
    {
     "data": {
      "text/html": [
       "<div>\n",
       "<style scoped>\n",
       "    .dataframe tbody tr th:only-of-type {\n",
       "        vertical-align: middle;\n",
       "    }\n",
       "\n",
       "    .dataframe tbody tr th {\n",
       "        vertical-align: top;\n",
       "    }\n",
       "\n",
       "    .dataframe thead th {\n",
       "        text-align: right;\n",
       "    }\n",
       "</style>\n",
       "<table border=\"1\" class=\"dataframe\">\n",
       "  <thead>\n",
       "    <tr style=\"text-align: right;\">\n",
       "      <th></th>\n",
       "      <th>SE</th>\n",
       "      <th>dfs_s_p1</th>\n",
       "      <th>dfs_f_p1</th>\n",
       "      <th>dfs_s_p2</th>\n",
       "      <th>dfs_f_p2</th>\n",
       "      <th>dfs_S_s</th>\n",
       "      <th>dfs_S_f</th>\n",
       "    </tr>\n",
       "  </thead>\n",
       "  <tbody>\n",
       "    <tr>\n",
       "      <th>10000</th>\n",
       "      <td>0.005895</td>\n",
       "      <td>0.004896</td>\n",
       "      <td>0.005577</td>\n",
       "      <td>0.006282</td>\n",
       "      <td>0.004488</td>\n",
       "      <td>0.003945</td>\n",
       "      <td>0.003983</td>\n",
       "    </tr>\n",
       "    <tr>\n",
       "      <th>1000000</th>\n",
       "      <td>0.174699</td>\n",
       "      <td>0.174635</td>\n",
       "      <td>0.173829</td>\n",
       "      <td>0.198207</td>\n",
       "      <td>0.166253</td>\n",
       "      <td>0.181899</td>\n",
       "      <td>0.173226</td>\n",
       "    </tr>\n",
       "    <tr>\n",
       "      <th>5000000</th>\n",
       "      <td>0.823992</td>\n",
       "      <td>0.811855</td>\n",
       "      <td>0.773859</td>\n",
       "      <td>0.765175</td>\n",
       "      <td>0.782001</td>\n",
       "      <td>1.073260</td>\n",
       "      <td>0.777115</td>\n",
       "    </tr>\n",
       "    <tr>\n",
       "      <th>10000000</th>\n",
       "      <td>1.658748</td>\n",
       "      <td>1.648245</td>\n",
       "      <td>1.665948</td>\n",
       "      <td>1.554624</td>\n",
       "      <td>1.630465</td>\n",
       "      <td>1.508329</td>\n",
       "      <td>1.726881</td>\n",
       "    </tr>\n",
       "    <tr>\n",
       "      <th>25000000</th>\n",
       "      <td>4.233288</td>\n",
       "      <td>3.951165</td>\n",
       "      <td>3.679488</td>\n",
       "      <td>4.556807</td>\n",
       "      <td>4.664113</td>\n",
       "      <td>4.299214</td>\n",
       "      <td>4.309913</td>\n",
       "    </tr>\n",
       "    <tr>\n",
       "      <th>50000000</th>\n",
       "      <td>8.109915</td>\n",
       "      <td>7.355722</td>\n",
       "      <td>7.614542</td>\n",
       "      <td>7.208424</td>\n",
       "      <td>8.166298</td>\n",
       "      <td>8.384956</td>\n",
       "      <td>8.289013</td>\n",
       "    </tr>\n",
       "  </tbody>\n",
       "</table>\n",
       "</div>"
      ],
      "text/plain": [
       "                SE  dfs_s_p1  dfs_f_p1  dfs_s_p2  dfs_f_p2   dfs_S_s   dfs_S_f\n",
       "10000     0.005895  0.004896  0.005577  0.006282  0.004488  0.003945  0.003983\n",
       "1000000   0.174699  0.174635  0.173829  0.198207  0.166253  0.181899  0.173226\n",
       "5000000   0.823992  0.811855  0.773859  0.765175  0.782001  1.073260  0.777115\n",
       "10000000  1.658748  1.648245  1.665948  1.554624  1.630465  1.508329  1.726881\n",
       "25000000  4.233288  3.951165  3.679488  4.556807  4.664113  4.299214  4.309913\n",
       "50000000  8.109915  7.355722  7.614542  7.208424  8.166298  8.384956  8.289013"
      ]
     },
     "execution_count": 11,
     "metadata": {},
     "output_type": "execute_result"
    }
   ],
   "source": [
    "df = pd.DataFrame(results)\n",
    "df"
   ]
  },
  {
   "cell_type": "code",
   "execution_count": 13,
   "id": "9e9580a0-5a67-4f92-9ffd-39d970d9033c",
   "metadata": {},
   "outputs": [
    {
     "data": {
      "text/html": [
       "\n",
       "<div id=\"altair-viz-a50fdd10de2f49c28c0f7528fe0effda\"></div>\n",
       "<script type=\"text/javascript\">\n",
       "  (function(spec, embedOpt){\n",
       "    let outputDiv = document.currentScript.previousElementSibling;\n",
       "    if (outputDiv.id !== \"altair-viz-a50fdd10de2f49c28c0f7528fe0effda\") {\n",
       "      outputDiv = document.getElementById(\"altair-viz-a50fdd10de2f49c28c0f7528fe0effda\");\n",
       "    }\n",
       "    const paths = {\n",
       "      \"vega\": \"https://cdn.jsdelivr.net/npm//vega@5?noext\",\n",
       "      \"vega-lib\": \"https://cdn.jsdelivr.net/npm//vega-lib?noext\",\n",
       "      \"vega-lite\": \"https://cdn.jsdelivr.net/npm//vega-lite@4.8.1?noext\",\n",
       "      \"vega-embed\": \"https://cdn.jsdelivr.net/npm//vega-embed@6?noext\",\n",
       "    };\n",
       "\n",
       "    function loadScript(lib) {\n",
       "      return new Promise(function(resolve, reject) {\n",
       "        var s = document.createElement('script');\n",
       "        s.src = paths[lib];\n",
       "        s.async = true;\n",
       "        s.onload = () => resolve(paths[lib]);\n",
       "        s.onerror = () => reject(`Error loading script: ${paths[lib]}`);\n",
       "        document.getElementsByTagName(\"head\")[0].appendChild(s);\n",
       "      });\n",
       "    }\n",
       "\n",
       "    function showError(err) {\n",
       "      outputDiv.innerHTML = `<div class=\"error\" style=\"color:red;\">${err}</div>`;\n",
       "      throw err;\n",
       "    }\n",
       "\n",
       "    function displayChart(vegaEmbed) {\n",
       "      vegaEmbed(outputDiv, spec, embedOpt)\n",
       "        .catch(err => showError(`Javascript Error: ${err.message}<br>This usually means there's a typo in your chart specification. See the javascript console for the full traceback.`));\n",
       "    }\n",
       "\n",
       "    if(typeof define === \"function\" && define.amd) {\n",
       "      requirejs.config({paths});\n",
       "      require([\"vega-embed\"], displayChart, err => showError(`Error loading script: ${err.message}`));\n",
       "    } else if (typeof vegaEmbed === \"function\") {\n",
       "      displayChart(vegaEmbed);\n",
       "    } else {\n",
       "      loadScript(\"vega\")\n",
       "        .then(() => loadScript(\"vega-lite\"))\n",
       "        .then(() => loadScript(\"vega-embed\"))\n",
       "        .catch(showError)\n",
       "        .then(() => displayChart(vegaEmbed));\n",
       "    }\n",
       "  })({\"config\": {\"view\": {\"continuousWidth\": 400, \"continuousHeight\": 300}}, \"data\": {\"name\": \"data-37428146ebe39aadbd76e4ea2cc7252e\"}, \"mark\": {\"type\": \"line\", \"point\": true}, \"encoding\": {\"color\": {\"type\": \"nominal\", \"field\": \"method\"}, \"tooltip\": [{\"type\": \"nominal\", \"field\": \"method\"}, {\"type\": \"quantitative\", \"field\": \"sample_size\"}, {\"type\": \"quantitative\", \"field\": \"value\"}], \"x\": {\"type\": \"quantitative\", \"field\": \"sample_size\"}, \"y\": {\"type\": \"quantitative\", \"field\": \"value\"}}, \"selection\": {\"selector002\": {\"type\": \"interval\", \"bind\": \"scales\", \"encodings\": [\"x\", \"y\"]}}, \"$schema\": \"https://vega.github.io/schema/vega-lite/v4.8.1.json\", \"datasets\": {\"data-37428146ebe39aadbd76e4ea2cc7252e\": [{\"sample_size\": 10000, \"method\": \"SE\", \"value\": 0.0058952459999943585}, {\"sample_size\": 10000, \"method\": \"dfs_s_p1\", \"value\": 0.0048962230000029194}, {\"sample_size\": 10000, \"method\": \"dfs_f_p1\", \"value\": 0.005577182000010339}, {\"sample_size\": 10000, \"method\": \"dfs_s_p2\", \"value\": 0.006282443000003468}, {\"sample_size\": 10000, \"method\": \"dfs_f_p2\", \"value\": 0.0044876480000084484}, {\"sample_size\": 10000, \"method\": \"dfs_S_s\", \"value\": 0.003945481000016571}, {\"sample_size\": 10000, \"method\": \"dfs_S_f\", \"value\": 0.003983106000021053}, {\"sample_size\": 1000000, \"method\": \"SE\", \"value\": 0.17469863899999893}, {\"sample_size\": 1000000, \"method\": \"dfs_s_p1\", \"value\": 0.1746349540000125}, {\"sample_size\": 1000000, \"method\": \"dfs_f_p1\", \"value\": 0.1738288070000067}, {\"sample_size\": 1000000, \"method\": \"dfs_s_p2\", \"value\": 0.19820701399999052}, {\"sample_size\": 1000000, \"method\": \"dfs_f_p2\", \"value\": 0.1662529650000124}, {\"sample_size\": 1000000, \"method\": \"dfs_S_s\", \"value\": 0.18189853999999173}, {\"sample_size\": 1000000, \"method\": \"dfs_S_f\", \"value\": 0.17322606000001883}, {\"sample_size\": 5000000, \"method\": \"SE\", \"value\": 0.8239924840000015}, {\"sample_size\": 5000000, \"method\": \"dfs_s_p1\", \"value\": 0.8118552480000005}, {\"sample_size\": 5000000, \"method\": \"dfs_f_p1\", \"value\": 0.77385864499999}, {\"sample_size\": 5000000, \"method\": \"dfs_s_p2\", \"value\": 0.7651746599999854}, {\"sample_size\": 5000000, \"method\": \"dfs_f_p2\", \"value\": 0.7820009739999989}, {\"sample_size\": 5000000, \"method\": \"dfs_S_s\", \"value\": 1.0732600110000021}, {\"sample_size\": 5000000, \"method\": \"dfs_S_f\", \"value\": 0.77711528399999}, {\"sample_size\": 10000000, \"method\": \"SE\", \"value\": 1.6587484949999975}, {\"sample_size\": 10000000, \"method\": \"dfs_s_p1\", \"value\": 1.6482454200000092}, {\"sample_size\": 10000000, \"method\": \"dfs_f_p1\", \"value\": 1.665947513000006}, {\"sample_size\": 10000000, \"method\": \"dfs_s_p2\", \"value\": 1.5546242470000209}, {\"sample_size\": 10000000, \"method\": \"dfs_f_p2\", \"value\": 1.6304651609999894}, {\"sample_size\": 10000000, \"method\": \"dfs_S_s\", \"value\": 1.508329304}, {\"sample_size\": 10000000, \"method\": \"dfs_S_f\", \"value\": 1.7268808130000082}, {\"sample_size\": 25000000, \"method\": \"SE\", \"value\": 4.23328798}, {\"sample_size\": 25000000, \"method\": \"dfs_s_p1\", \"value\": 3.951165161000006}, {\"sample_size\": 25000000, \"method\": \"dfs_f_p1\", \"value\": 3.6794883719999945}, {\"sample_size\": 25000000, \"method\": \"dfs_s_p2\", \"value\": 4.556806593000005}, {\"sample_size\": 25000000, \"method\": \"dfs_f_p2\", \"value\": 4.664112514999999}, {\"sample_size\": 25000000, \"method\": \"dfs_S_s\", \"value\": 4.299213612000017}, {\"sample_size\": 25000000, \"method\": \"dfs_S_f\", \"value\": 4.309912951000001}, {\"sample_size\": 50000000, \"method\": \"SE\", \"value\": 8.109914896999996}, {\"sample_size\": 50000000, \"method\": \"dfs_s_p1\", \"value\": 7.355721593999988}, {\"sample_size\": 50000000, \"method\": \"dfs_f_p1\", \"value\": 7.6145422499999995}, {\"sample_size\": 50000000, \"method\": \"dfs_s_p2\", \"value\": 7.208424054999995}, {\"sample_size\": 50000000, \"method\": \"dfs_f_p2\", \"value\": 8.166297651000008}, {\"sample_size\": 50000000, \"method\": \"dfs_S_s\", \"value\": 8.384955556999984}, {\"sample_size\": 50000000, \"method\": \"dfs_S_f\", \"value\": 8.289013334999993}]}}, {\"mode\": \"vega-lite\"});\n",
       "</script>"
      ],
      "text/plain": [
       "alt.Chart(...)"
      ]
     },
     "execution_count": 13,
     "metadata": {},
     "output_type": "execute_result"
    }
   ],
   "source": [
    "dfshort = df.stack().reset_index(drop=False)\n",
    "dfshort.columns = ['sample_size', 'method', 'value']\n",
    "\n",
    "alt.Chart(dfshort).mark_line(point=True).encode(\n",
    "    x='sample_size:Q',\n",
    "    y='value:Q',\n",
    "    color='method:N',\n",
    "    tooltip=['method:N', 'sample_size:Q', 'value:Q']\n",
    ").interactive()"
   ]
  },
  {
   "cell_type": "code",
   "execution_count": 7,
   "id": "33e9d1c5-a858-468f-b205-c0fdeb95740a",
   "metadata": {},
   "outputs": [
    {
     "name": "stdout",
     "output_type": "stream",
     "text": [
      "614 µs ± 14.3 µs per loop (mean ± std. dev. of 7 runs, 1000 loops each)\n"
     ]
    }
   ],
   "source": [
    "%%timeit\n",
    "validate_df(samples[100], schema_p1)"
   ]
  },
  {
   "cell_type": "code",
   "execution_count": 15,
   "id": "8a42c568-d876-449a-b768-b014d06f8216",
   "metadata": {},
   "outputs": [],
   "source": [
    "schema = dfs.DfSchema.from_dict(schema_p1)"
   ]
  },
  {
   "cell_type": "code",
   "execution_count": 11,
   "id": "8453fa27-e9bb-4337-a524-40fcc3be03fc",
   "metadata": {},
   "outputs": [
    {
     "name": "stdout",
     "output_type": "stream",
     "text": [
      "570 µs ± 23.6 µs per loop (mean ± std. dev. of 7 runs, 1000 loops each)\n"
     ]
    }
   ],
   "source": [
    "%%timeit\n",
    "dfs.validate_df(samples[100], schema_p1, summary=True)"
   ]
  },
  {
   "cell_type": "code",
   "execution_count": 10,
   "id": "bacdac7f-9f00-4574-8f96-5223cd6863b7",
   "metadata": {},
   "outputs": [
    {
     "name": "stdout",
     "output_type": "stream",
     "text": [
      "559 µs ± 23 µs per loop (mean ± std. dev. of 7 runs, 1000 loops each)\n"
     ]
    }
   ],
   "source": [
    "%%timeit\n",
    "dfs.validate_df(samples[100], schema_p1, summary=False)"
   ]
  },
  {
   "cell_type": "code",
   "execution_count": null,
   "id": "7c7403a0-8829-46d7-8d53-508daaa29f4e",
   "metadata": {},
   "outputs": [],
   "source": []
  }
 ],
 "metadata": {
  "kernelspec": {
   "display_name": "Python 3 (ipykernel)",
   "language": "python",
   "name": "python3"
  },
  "language_info": {
   "codemirror_mode": {
    "name": "ipython",
    "version": 3
   },
   "file_extension": ".py",
   "mimetype": "text/x-python",
   "name": "python",
   "nbconvert_exporter": "python",
   "pygments_lexer": "ipython3",
   "version": "3.7.8"
  }
 },
 "nbformat": 4,
 "nbformat_minor": 5
}
